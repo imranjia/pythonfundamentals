{
 "cells": [
  {
   "cell_type": "code",
   "execution_count": 8,
   "id": "91538364",
   "metadata": {},
   "outputs": [
    {
     "name": "stdout",
     "output_type": "stream",
     "text": [
      "hello\n"
     ]
    }
   ],
   "source": [
    "print(\"hello\") # input cell - shift + enter is to execute"
   ]
  },
  {
   "cell_type": "code",
   "execution_count": 9,
   "id": "c0b5c8d4",
   "metadata": {},
   "outputs": [],
   "source": [
    "#File --> Downloads --> notepad.ifyb"
   ]
  },
  {
   "cell_type": "code",
   "execution_count": null,
   "id": "a4b5be0c",
   "metadata": {},
   "outputs": [],
   "source": []
  },
  {
   "cell_type": "code",
   "execution_count": null,
   "id": "7cdc6595",
   "metadata": {},
   "outputs": [],
   "source": []
  },
  {
   "cell_type": "code",
   "execution_count": null,
   "id": "627afa83",
   "metadata": {},
   "outputs": [],
   "source": []
  }
 ],
 "metadata": {
  "kernelspec": {
   "display_name": "Python 3",
   "language": "python",
   "name": "python3"
  },
  "language_info": {
   "codemirror_mode": {
    "name": "ipython",
    "version": 3
   },
   "file_extension": ".py",
   "mimetype": "text/x-python",
   "name": "python",
   "nbconvert_exporter": "python",
   "pygments_lexer": "ipython3",
   "version": "3.8.8"
  }
 },
 "nbformat": 4,
 "nbformat_minor": 5
}
