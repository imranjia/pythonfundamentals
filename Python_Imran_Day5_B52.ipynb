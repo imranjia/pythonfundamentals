{
 "cells": [
  {
   "cell_type": "code",
   "execution_count": 1,
   "id": "23be2064",
   "metadata": {},
   "outputs": [],
   "source": [
    "#Python_Imran_Day1_B52"
   ]
  },
  {
   "cell_type": "code",
   "execution_count": 3,
   "id": "458dfb5d",
   "metadata": {},
   "outputs": [],
   "source": [
    "#organising the list data type:"
   ]
  },
  {
   "cell_type": "code",
   "execution_count": 16,
   "id": "7742a5c3",
   "metadata": {},
   "outputs": [],
   "source": [
    "cars = ['kia','benz','audi','bmw','hyundai','maruthi']"
   ]
  },
  {
   "cell_type": "code",
   "execution_count": null,
   "id": "a23ed9df",
   "metadata": {},
   "outputs": [],
   "source": []
  },
  {
   "cell_type": "code",
   "execution_count": 17,
   "id": "8610e6f8",
   "metadata": {},
   "outputs": [
    {
     "name": "stdout",
     "output_type": "stream",
     "text": [
      "['kia', 'benz', 'audi', 'bmw', 'hyundai', 'maruthi']\n"
     ]
    }
   ],
   "source": [
    "print(cars)"
   ]
  },
  {
   "cell_type": "code",
   "execution_count": null,
   "id": "ac6e4ca0",
   "metadata": {},
   "outputs": [],
   "source": []
  },
  {
   "cell_type": "code",
   "execution_count": 6,
   "id": "e455a722",
   "metadata": {},
   "outputs": [
    {
     "data": {
      "text/plain": [
       "list"
      ]
     },
     "execution_count": 6,
     "metadata": {},
     "output_type": "execute_result"
    }
   ],
   "source": [
    "type(cars)"
   ]
  },
  {
   "cell_type": "code",
   "execution_count": 7,
   "id": "1468bed5",
   "metadata": {},
   "outputs": [],
   "source": [
    "# reg : i want to organize the above cars list in a alpabetical order\n"
   ]
  },
  {
   "cell_type": "code",
   "execution_count": 12,
   "id": "88c9ed5b",
   "metadata": {},
   "outputs": [],
   "source": [
    "#2 possible apporaches\n",
    "\n",
    "#1. Temp approach --> We can maintain the original order===> SORTED\n",
    "#2. Permanent approach --> Changes are fixed. Can't go back to orinial order=== SORT"
   ]
  },
  {
   "cell_type": "code",
   "execution_count": 13,
   "id": "461cd2d0",
   "metadata": {},
   "outputs": [],
   "source": [
    "#tEMP approach --> 1 - sorted - A --> Z ORDER - "
   ]
  },
  {
   "cell_type": "code",
   "execution_count": 18,
   "id": "52483d44",
   "metadata": {},
   "outputs": [
    {
     "name": "stdout",
     "output_type": "stream",
     "text": [
      "['audi', 'benz', 'bmw', 'hyundai', 'kia', 'maruthi']\n"
     ]
    }
   ],
   "source": [
    "print(sorted(cars))"
   ]
  },
  {
   "cell_type": "code",
   "execution_count": 19,
   "id": "bfacf284",
   "metadata": {},
   "outputs": [
    {
     "name": "stdout",
     "output_type": "stream",
     "text": [
      "['kia', 'benz', 'audi', 'bmw', 'hyundai', 'maruthi']\n"
     ]
    }
   ],
   "source": [
    "print(cars) # this is original order and it remains the same"
   ]
  },
  {
   "cell_type": "code",
   "execution_count": null,
   "id": "a87aad58",
   "metadata": {},
   "outputs": [],
   "source": [
    "benz , bmw ---> e, m"
   ]
  },
  {
   "cell_type": "code",
   "execution_count": 20,
   "id": "0196f6b9",
   "metadata": {},
   "outputs": [],
   "source": [
    "#permanent approach : "
   ]
  },
  {
   "cell_type": "code",
   "execution_count": 21,
   "id": "2be41bc6",
   "metadata": {},
   "outputs": [],
   "source": [
    "cars.sort()"
   ]
  },
  {
   "cell_type": "code",
   "execution_count": 22,
   "id": "86542a68",
   "metadata": {},
   "outputs": [
    {
     "name": "stdout",
     "output_type": "stream",
     "text": [
      "['audi', 'benz', 'bmw', 'hyundai', 'kia', 'maruthi']\n"
     ]
    }
   ],
   "source": [
    "print(cars)"
   ]
  },
  {
   "cell_type": "code",
   "execution_count": null,
   "id": "0742af79",
   "metadata": {},
   "outputs": [],
   "source": [
    "# reg :how to print the list in a reverse order .. ?"
   ]
  },
  {
   "cell_type": "code",
   "execution_count": 23,
   "id": "ce9c6f08",
   "metadata": {},
   "outputs": [
    {
     "name": "stdout",
     "output_type": "stream",
     "text": [
      "['audi', 'benz', 'bmw', 'hyundai', 'kia', 'maruthi']\n"
     ]
    }
   ],
   "source": [
    "print(cars)"
   ]
  },
  {
   "cell_type": "code",
   "execution_count": 25,
   "id": "b543629e",
   "metadata": {},
   "outputs": [],
   "source": [
    "cars.reverse()  # The changes are applied permanently"
   ]
  },
  {
   "cell_type": "code",
   "execution_count": 26,
   "id": "4cf845bd",
   "metadata": {},
   "outputs": [
    {
     "name": "stdout",
     "output_type": "stream",
     "text": [
      "['maruthi', 'kia', 'hyundai', 'bmw', 'benz', 'audi']\n"
     ]
    }
   ],
   "source": [
    "print(cars)"
   ]
  },
  {
   "cell_type": "code",
   "execution_count": 27,
   "id": "cbeb1745",
   "metadata": {},
   "outputs": [],
   "source": [
    "# To count the number of elements in a LIST"
   ]
  },
  {
   "cell_type": "code",
   "execution_count": 32,
   "id": "f8edd818",
   "metadata": {},
   "outputs": [
    {
     "data": {
      "text/plain": [
       "6"
      ]
     },
     "execution_count": 32,
     "metadata": {},
     "output_type": "execute_result"
    }
   ],
   "source": [
    "len(cars)"
   ]
  },
  {
   "cell_type": "code",
   "execution_count": 33,
   "id": "9abd389c",
   "metadata": {},
   "outputs": [],
   "source": [
    "#slicing of lists:"
   ]
  },
  {
   "cell_type": "code",
   "execution_count": 41,
   "id": "0d1bd77a",
   "metadata": {},
   "outputs": [],
   "source": [
    "students =['suvedita','farheen','kumar','imran','surya','hameed']"
   ]
  },
  {
   "cell_type": "code",
   "execution_count": null,
   "id": "068e84ea",
   "metadata": {},
   "outputs": [],
   "source": []
  },
  {
   "cell_type": "code",
   "execution_count": 42,
   "id": "0235e93b",
   "metadata": {},
   "outputs": [
    {
     "name": "stdout",
     "output_type": "stream",
     "text": [
      "['suvedita', 'farheen', 'kumar', 'imran', 'surya', 'hameed']\n"
     ]
    }
   ],
   "source": [
    "print(students)"
   ]
  },
  {
   "cell_type": "code",
   "execution_count": 43,
   "id": "c2a94bbb",
   "metadata": {},
   "outputs": [],
   "source": [
    "#General syntax of slicing"
   ]
  },
  {
   "cell_type": "code",
   "execution_count": 45,
   "id": "e82b53a5",
   "metadata": {},
   "outputs": [],
   "source": [
    "#startvalue:stopvalue:stepcount ==> indexing."
   ]
  },
  {
   "cell_type": "code",
   "execution_count": 50,
   "id": "31ca79f4",
   "metadata": {},
   "outputs": [],
   "source": [
    "#Note : Last value or stop value is always exclusive, that means it will be included in part of the slice."
   ]
  },
  {
   "cell_type": "code",
   "execution_count": 51,
   "id": "23d3351b",
   "metadata": {},
   "outputs": [],
   "source": [
    "#Note 2 : Increment the index by 1 to include the lastvalue or stop value"
   ]
  },
  {
   "cell_type": "code",
   "execution_count": 48,
   "id": "22599064",
   "metadata": {},
   "outputs": [],
   "source": [
    "# reg : i want to include suvedita and farheen in the same slice."
   ]
  },
  {
   "cell_type": "code",
   "execution_count": 49,
   "id": "6bdbd95c",
   "metadata": {},
   "outputs": [
    {
     "name": "stdout",
     "output_type": "stream",
     "text": [
      "['suvedita']\n"
     ]
    }
   ],
   "source": [
    "print(students[0:1])"
   ]
  },
  {
   "cell_type": "code",
   "execution_count": 52,
   "id": "8badcda6",
   "metadata": {},
   "outputs": [
    {
     "name": "stdout",
     "output_type": "stream",
     "text": [
      "['suvedita', 'farheen']\n"
     ]
    }
   ],
   "source": [
    "print(students[0:2])"
   ]
  },
  {
   "cell_type": "code",
   "execution_count": 53,
   "id": "8f860d48",
   "metadata": {},
   "outputs": [
    {
     "name": "stdout",
     "output_type": "stream",
     "text": [
      "['kumar', 'imran']\n"
     ]
    }
   ],
   "source": [
    "print(students[2:4])"
   ]
  },
  {
   "cell_type": "code",
   "execution_count": null,
   "id": "51072c86",
   "metadata": {},
   "outputs": [],
   "source": [
    "# reg : i want to include surya and Hameed in the same index"
   ]
  },
  {
   "cell_type": "code",
   "execution_count": 54,
   "id": "fb7bea77",
   "metadata": {},
   "outputs": [
    {
     "name": "stdout",
     "output_type": "stream",
     "text": [
      "['surya', 'hameed']\n"
     ]
    }
   ],
   "source": [
    "print(students[4:6])"
   ]
  },
  {
   "cell_type": "code",
   "execution_count": 55,
   "id": "8f767291",
   "metadata": {},
   "outputs": [],
   "source": [
    "# every alternative student"
   ]
  },
  {
   "cell_type": "code",
   "execution_count": 59,
   "id": "753682eb",
   "metadata": {},
   "outputs": [
    {
     "name": "stdout",
     "output_type": "stream",
     "text": [
      "['suvedita', 'kumar', 'surya']\n"
     ]
    }
   ],
   "source": [
    "print(students[0:6:2])  # This will skip the second record is removed."
   ]
  },
  {
   "cell_type": "code",
   "execution_count": null,
   "id": "c47fed20",
   "metadata": {},
   "outputs": [],
   "source": []
  },
  {
   "cell_type": "code",
   "execution_count": null,
   "id": "5b40dbe7",
   "metadata": {},
   "outputs": [],
   "source": []
  },
  {
   "cell_type": "code",
   "execution_count": null,
   "id": "939111a2",
   "metadata": {},
   "outputs": [],
   "source": []
  },
  {
   "cell_type": "code",
   "execution_count": null,
   "id": "802e2618",
   "metadata": {},
   "outputs": [],
   "source": []
  },
  {
   "cell_type": "code",
   "execution_count": null,
   "id": "42f71bf3",
   "metadata": {},
   "outputs": [],
   "source": []
  },
  {
   "cell_type": "code",
   "execution_count": null,
   "id": "89cc687d",
   "metadata": {},
   "outputs": [],
   "source": []
  },
  {
   "cell_type": "code",
   "execution_count": null,
   "id": "4f326813",
   "metadata": {},
   "outputs": [],
   "source": []
  },
  {
   "cell_type": "code",
   "execution_count": null,
   "id": "8e987ec6",
   "metadata": {},
   "outputs": [],
   "source": []
  },
  {
   "cell_type": "code",
   "execution_count": null,
   "id": "d95b584c",
   "metadata": {},
   "outputs": [],
   "source": []
  },
  {
   "cell_type": "code",
   "execution_count": null,
   "id": "1cd9a194",
   "metadata": {},
   "outputs": [],
   "source": []
  },
  {
   "cell_type": "code",
   "execution_count": null,
   "id": "f759b2f4",
   "metadata": {},
   "outputs": [],
   "source": []
  },
  {
   "cell_type": "code",
   "execution_count": null,
   "id": "ca6d4b37",
   "metadata": {},
   "outputs": [],
   "source": []
  },
  {
   "cell_type": "code",
   "execution_count": null,
   "id": "5f1b7df9",
   "metadata": {},
   "outputs": [],
   "source": []
  },
  {
   "cell_type": "code",
   "execution_count": null,
   "id": "a97f2744",
   "metadata": {},
   "outputs": [],
   "source": []
  },
  {
   "cell_type": "code",
   "execution_count": null,
   "id": "78d591e9",
   "metadata": {},
   "outputs": [],
   "source": []
  },
  {
   "cell_type": "code",
   "execution_count": null,
   "id": "e728cb1b",
   "metadata": {},
   "outputs": [],
   "source": []
  },
  {
   "cell_type": "code",
   "execution_count": null,
   "id": "27b33086",
   "metadata": {},
   "outputs": [],
   "source": []
  }
 ],
 "metadata": {
  "kernelspec": {
   "display_name": "Python 3",
   "language": "python",
   "name": "python3"
  },
  "language_info": {
   "codemirror_mode": {
    "name": "ipython",
    "version": 3
   },
   "file_extension": ".py",
   "mimetype": "text/x-python",
   "name": "python",
   "nbconvert_exporter": "python",
   "pygments_lexer": "ipython3",
   "version": "3.8.8"
  }
 },
 "nbformat": 4,
 "nbformat_minor": 5
}
