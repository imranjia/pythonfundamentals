{
 "cells": [
  {
   "cell_type": "code",
   "execution_count": 1,
   "id": "d9bf9ac8",
   "metadata": {},
   "outputs": [],
   "source": [
    "#Introduction to looping statements : "
   ]
  },
  {
   "cell_type": "code",
   "execution_count": 2,
   "id": "7cebda2b",
   "metadata": {},
   "outputs": [],
   "source": [
    "students = ['kranthi','shreya','pooja','sajid','aliya']"
   ]
  },
  {
   "cell_type": "code",
   "execution_count": null,
   "id": "0d1420e7",
   "metadata": {},
   "outputs": [],
   "source": []
  },
  {
   "cell_type": "code",
   "execution_count": 4,
   "id": "4238be62",
   "metadata": {},
   "outputs": [
    {
     "name": "stdout",
     "output_type": "stream",
     "text": [
      "Keep up the good work,kranthi\n"
     ]
    }
   ],
   "source": [
    "print(f\"Keep up the good work,{students[0]}\")"
   ]
  },
  {
   "cell_type": "code",
   "execution_count": 9,
   "id": "ad4aff66",
   "metadata": {},
   "outputs": [
    {
     "name": "stdout",
     "output_type": "stream",
     "text": [
      "Keep up the good work,Sajid\n"
     ]
    }
   ],
   "source": [
    "print(f\"Keep up the good work,{students[3].title()}\") #"
   ]
  },
  {
   "cell_type": "code",
   "execution_count": 10,
   "id": "a4171ebd",
   "metadata": {},
   "outputs": [
    {
     "name": "stdout",
     "output_type": "stream",
     "text": [
      "Keep up the good work,sajid\n"
     ]
    }
   ],
   "source": [
    "print(f\"Keep up the good work,{students[3]}\")"
   ]
  },
  {
   "cell_type": "code",
   "execution_count": 11,
   "id": "5bdf5148",
   "metadata": {},
   "outputs": [],
   "source": [
    "#The title() function in python is the Python String Method which is used to convert the first character in each word to Uppercase and remaining characters to Lowercase in the string and returns a new string."
   ]
  },
  {
   "cell_type": "code",
   "execution_count": 12,
   "id": "0bf44554",
   "metadata": {},
   "outputs": [
    {
     "name": "stdout",
     "output_type": "stream",
     "text": [
      "keep up the goodwork,kranthi\n",
      "keep up the goodwork,shreya\n",
      "keep up the goodwork,pooja\n",
      "keep up the goodwork,sajid\n",
      "keep up the goodwork,aliya\n"
     ]
    }
   ],
   "source": [
    "for ironman in students:\n",
    "    print(f\"keep up the goodwork,{ironman}\") # without title() will have small letter"
   ]
  },
  {
   "cell_type": "code",
   "execution_count": 13,
   "id": "fe363381",
   "metadata": {},
   "outputs": [
    {
     "name": "stdout",
     "output_type": "stream",
     "text": [
      "kranthi\n",
      "shreya\n",
      "pooja\n",
      "sajid\n",
      "aliya\n"
     ]
    }
   ],
   "source": [
    "for x in students:\n",
    "    print(x)"
   ]
  },
  {
   "cell_type": "code",
   "execution_count": 14,
   "id": "dde79d65",
   "metadata": {},
   "outputs": [
    {
     "name": "stdout",
     "output_type": "stream",
     "text": [
      "Kranthi\n",
      "Shreya\n",
      "Pooja\n",
      "Sajid\n",
      "Aliya\n"
     ]
    }
   ],
   "source": [
    "for x in students:\n",
    "    print(x.title())"
   ]
  },
  {
   "cell_type": "code",
   "execution_count": 3,
   "id": "137f51fc",
   "metadata": {},
   "outputs": [
    {
     "name": "stdout",
     "output_type": "stream",
     "text": [
      "keep up the goodwork,Kranthi\n",
      "keep up the goodwork,Shreya\n",
      "keep up the goodwork,Pooja\n",
      "keep up the goodwork,Sajid\n",
      "keep up the goodwork,Aliya\n"
     ]
    }
   ],
   "source": [
    "for ironman in students:\n",
    "    print(f\"keep up the goodwork,{ironman.title()}\") # indentation"
   ]
  },
  {
   "cell_type": "code",
   "execution_count": null,
   "id": "c1a61b64",
   "metadata": {},
   "outputs": [],
   "source": []
  },
  {
   "cell_type": "code",
   "execution_count": null,
   "id": "e3ea9d00",
   "metadata": {},
   "outputs": [],
   "source": [
    "# reg : "
   ]
  },
  {
   "cell_type": "code",
   "execution_count": 8,
   "id": "43ff5ad4",
   "metadata": {},
   "outputs": [
    {
     "name": "stdout",
     "output_type": "stream",
     "text": [
      "keep up the goodwork,Imran\n",
      "please do send me the practice file of today,Imran\n",
      "keep up the goodwork,Shuhab\n",
      "please do send me the practice file of today,Shuhab\n",
      "keep up the goodwork,Kumar\n",
      "please do send me the practice file of today,Kumar\n"
     ]
    }
   ],
   "source": [
    "for x in students:\n",
    "    print(f\"keep up the goodwork,{x.title()}\")\n",
    "    print(f\"please do send me the practice file of today,{x.title()}\")"
   ]
  },
  {
   "cell_type": "code",
   "execution_count": 9,
   "id": "22e06a63",
   "metadata": {},
   "outputs": [],
   "source": [
    "# enhancement of the code"
   ]
  },
  {
   "cell_type": "code",
   "execution_count": 10,
   "id": "887216a1",
   "metadata": {},
   "outputs": [
    {
     "name": "stdout",
     "output_type": "stream",
     "text": [
      "keep up the goodwork,Imran\n",
      "please do send me the practice file of today,Imran.\n",
      "\n",
      "keep up the goodwork,Shuhab\n",
      "please do send me the practice file of today,Shuhab.\n",
      "\n",
      "keep up the goodwork,Kumar\n",
      "please do send me the practice file of today,Kumar.\n",
      "\n"
     ]
    }
   ],
   "source": [
    "for x in students:\n",
    "    print(f\"keep up the goodwork,{x.title()}\")\n",
    "    print(f\"please do send me the practice file of today,{x.title()}.\\n\")"
   ]
  },
  {
   "cell_type": "code",
   "execution_count": 12,
   "id": "f73aa5d8",
   "metadata": {},
   "outputs": [
    {
     "name": "stdout",
     "output_type": "stream",
     "text": [
      "keep up the goodwork,Imran\n",
      "please do send me the practice file of today,Imran.\n",
      "\n",
      "keep up the goodwork,Shuhab\n",
      "please do send me the practice file of today,Shuhab.\n",
      "\n",
      "keep up the goodwork,Kumar\n",
      "please do send me the practice file of today,Kumar.\n",
      "\n",
      "Thank you all for showing the interest to learn Python\n"
     ]
    }
   ],
   "source": [
    "for x in students:\n",
    "    print(f\"keep up the goodwork,{x.title()}\")\n",
    "    print(f\"please do send me the practice file of today,{x.title()}.\\n\")\n",
    "    \n",
    "print(\"Thank you all for showing the interest to learn Python\") # This is outside for loop"
   ]
  },
  {
   "cell_type": "code",
   "execution_count": 13,
   "id": "e3b3e75f",
   "metadata": {
    "scrolled": true
   },
   "outputs": [
    {
     "name": "stdout",
     "output_type": "stream",
     "text": [
      "keep up the goodwork,Imran\n",
      "please do send me the practice file of today,Imran.\n",
      "\n",
      "Thank you all for showing the interest to learn Python\n",
      "keep up the goodwork,Shuhab\n",
      "please do send me the practice file of today,Shuhab.\n",
      "\n",
      "Thank you all for showing the interest to learn Python\n",
      "keep up the goodwork,Kumar\n",
      "please do send me the practice file of today,Kumar.\n",
      "\n",
      "Thank you all for showing the interest to learn Python\n"
     ]
    }
   ],
   "source": [
    "for x in students:\n",
    "    print(f\"keep up the goodwork,{x.title()}\")\n",
    "    print(f\"please do send me the practice file of today,{x.title()}.\\n\")\n",
    "    print(\"Thank you all for showing the interest to learn Python\") # This inside for loop"
   ]
  },
  {
   "cell_type": "code",
   "execution_count": 14,
   "id": "784f36ef",
   "metadata": {},
   "outputs": [
    {
     "name": "stdout",
     "output_type": "stream",
     "text": [
      "apple\n",
      "banana\n",
      "cherry\n"
     ]
    }
   ],
   "source": [
    "fruits = [\"apple\", \"banana\", \"cherry\"]\n",
    "for x in fruits:\n",
    "  print(x)"
   ]
  },
  {
   "cell_type": "code",
   "execution_count": null,
   "id": "7a5a0635",
   "metadata": {},
   "outputs": [],
   "source": []
  },
  {
   "cell_type": "code",
   "execution_count": null,
   "id": "11c23886",
   "metadata": {},
   "outputs": [],
   "source": []
  },
  {
   "cell_type": "code",
   "execution_count": null,
   "id": "74e561a2",
   "metadata": {},
   "outputs": [],
   "source": []
  },
  {
   "cell_type": "code",
   "execution_count": null,
   "id": "9228c6e0",
   "metadata": {},
   "outputs": [],
   "source": []
  }
 ],
 "metadata": {
  "kernelspec": {
   "display_name": "Python 3",
   "language": "python",
   "name": "python3"
  },
  "language_info": {
   "codemirror_mode": {
    "name": "ipython",
    "version": 3
   },
   "file_extension": ".py",
   "mimetype": "text/x-python",
   "name": "python",
   "nbconvert_exporter": "python",
   "pygments_lexer": "ipython3",
   "version": "3.8.8"
  }
 },
 "nbformat": 4,
 "nbformat_minor": 5
}
